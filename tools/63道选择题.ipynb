{
 "cells": [
  {
   "cell_type": "code",
   "execution_count": 1,
   "metadata": {
    "ExecuteTime": {
     "end_time": "2019-09-19T01:09:34.629744Z",
     "start_time": "2019-09-19T01:09:33.342701Z"
    }
   },
   "outputs": [],
   "source": [
    "import docx\n",
    "import re\n",
    "import sys\n",
    "from win32com import client as wc\n",
    "import docx\n",
    "import os"
   ]
  },
  {
   "cell_type": "code",
   "execution_count": 2,
   "metadata": {
    "ExecuteTime": {
     "end_time": "2019-09-19T01:09:37.552924Z",
     "start_time": "2019-09-19T01:09:37.541923Z"
    }
   },
   "outputs": [],
   "source": [
    "# 处理文件为docx模式\n",
    "# step1 获得所有文件\n",
    "# step2 将每一个文件另存为docs模式\n",
    "\n",
    "#返回一个list类型的文件目录\n",
    "def GetAllFiles(path,path2):\n",
    "    '''\n",
    "    parameter:path 为源路径,path2为修改的路径\n",
    "    '''\n",
    "    if os.path.isdir(path):\n",
    "        c = os.listdir(path)\n",
    "        c = [path+\"\\\\\"+i for i in c]\n",
    "        t = [path2+\"\\\\\"+i.split('\\\\')[-1].split('.')[0]+\".docx\" for i in c]\n",
    "        return c,t\n",
    "        print(\"=\"*20,\"完成路径转化\",\"=\"*20)\n",
    "\n",
    "#处理单个dir里面的文件\n",
    "#word = wc.Dispatch('Word.Application')\n",
    "def DocSavesDocx(_dir,_dir2):\n",
    "    doc = word.Documents.Open(_dir)\n",
    "    doc.SaveAs(_dir2,12,False,\"\",True,\"\",False,False,False)\n",
    "    doc.Close()\n",
    "    print(\"=\"*20,\"另存为完毕\",\"=\"*20)\n",
    "# ord.Quit()"
   ]
  },
  {
   "cell_type": "code",
   "execution_count": 3,
   "metadata": {
    "ExecuteTime": {
     "end_time": "2019-09-19T01:09:41.072027Z",
     "start_time": "2019-09-19T01:09:41.061026Z"
    }
   },
   "outputs": [],
   "source": [
    "# 现在可以进行正则化匹配了\n",
    "#step1 打开文件\n",
    "\n",
    "# _dic = {}\n",
    "# count = 0\n",
    "def GetAnswer(_dir2):\n",
    "    _file = docx.Document(_dir2)\n",
    "    str = \"\"\n",
    "    for i in _file.paragraphs:\n",
    "        str +=i.text+\"\\n\"\n",
    "    \n",
    "    # 解决脏数据()（）[] 【】\n",
    "    \n",
    "    str = str.replace('(','【')\n",
    "    str = str.replace('（','【')\n",
    "    str = str.replace(' ','')\n",
    "    str = str.replace(')','】')\n",
    "    str = str.replace('）','】')\n",
    "    str = str.replace('\\t','')\n",
    "    str = str.replace('\\xa0','')\n",
    "    \n",
    "    # 正则化匹配\n",
    "    result = re.findall('([0-9]{1,2}).*?【([A-Da-d])】.*?\\n',str)\n",
    "    name = _dir2.split(\"\\\\\")[-1].split(\".\")[0]\n",
    "    if(len(result)>=20):\n",
    "        _dic[name]=result\n",
    "    else:\n",
    "        print(\"===\",name,\"====>匹配失败!!!!\",len(result))"
   ]
  },
  {
   "cell_type": "markdown",
   "metadata": {},
   "source": [
    "### 805班级"
   ]
  },
  {
   "cell_type": "code",
   "execution_count": 4,
   "metadata": {
    "ExecuteTime": {
     "end_time": "2019-09-19T01:09:44.729026Z",
     "start_time": "2019-09-19T01:09:44.722025Z"
    }
   },
   "outputs": [],
   "source": [
    "# 主程序\n",
    "path = \"E:\\\\qq_document\\\\2181778692\\\\FileRecv\\\\805复习1\\\\805复习1\"\n",
    "path2 = \"E:\\\\qq_document\\\\2181778692\\\\FileRecv\\\\805复习1\\\\副本\"\n",
    "_dirlist,_dir2list = GetAllFiles(path,path2)"
   ]
  },
  {
   "cell_type": "markdown",
   "metadata": {},
   "source": [
    "### 804班"
   ]
  },
  {
   "cell_type": "code",
   "execution_count": 12,
   "metadata": {
    "ExecuteTime": {
     "end_time": "2019-09-19T01:14:31.616203Z",
     "start_time": "2019-09-19T01:14:31.600204Z"
    }
   },
   "outputs": [],
   "source": [
    "path=\"E:\\\\qq_document\\\\2181778692\\\\FileRecv\\\\804复习1\\\\804复习1\"\n",
    "_dirlist = [path+\"\\\\\"+i for i in os.listdir(path)]    \n",
    "_dirlist = [i+\"\\\\\"+os.listdir(i)[0] for i in _dirlist]\n",
    "path2 = \"E:\\\\qq_document\\\\2181778692\\\\FileRecv\\\\804复习1\\\\副本\"\n",
    "_dir2list = [path2+\"\\\\\"+i.split(\"\\\\\")[-1].split(\".\")[0]+\".docx\" for i in _dirlist]"
   ]
  },
  {
   "cell_type": "markdown",
   "metadata": {},
   "source": [
    "### 其他班"
   ]
  },
  {
   "cell_type": "code",
   "execution_count": 32,
   "metadata": {
    "ExecuteTime": {
     "end_time": "2019-09-19T01:24:52.540338Z",
     "start_time": "2019-09-19T01:24:52.532342Z"
    }
   },
   "outputs": [],
   "source": [
    "path=\"E:\\\\qq_document\\\\2181778692\\\\FileRecv\\\\806\"\n",
    "_dirlist = [path+\"\\\\\"+i for i in os.listdir(path) if i!=\"副本\"]    \n",
    "path2 = \"E:\\\\qq_document\\\\2181778692\\\\FileRecv\\\\806\\\\副本\"\n",
    "_dir2list = [path2+\"\\\\\"+i.split(\"\\\\\")[-1].split(\".\")[0]+\".docx\" for i in _dirlist]"
   ]
  },
  {
   "cell_type": "markdown",
   "metadata": {},
   "source": [
    "### doc transform to docx"
   ]
  },
  {
   "cell_type": "code",
   "execution_count": 35,
   "metadata": {
    "ExecuteTime": {
     "end_time": "2019-09-19T01:25:14.294064Z",
     "start_time": "2019-09-19T01:25:14.290070Z"
    }
   },
   "outputs": [],
   "source": [
    "word = wc.Dispatch('Word.Application')\n",
    "\n",
    "dirlist = zip(_dirlist,_dir2list)\n",
    "for i in dirlist:\n",
    "    DocSavesDocx(i[0],i[1])\n",
    "word.Quit()"
   ]
  },
  {
   "cell_type": "markdown",
   "metadata": {},
   "source": [
    "### get all answers"
   ]
  },
  {
   "cell_type": "code",
   "execution_count": 36,
   "metadata": {
    "ExecuteTime": {
     "end_time": "2019-09-19T01:25:20.055326Z",
     "start_time": "2019-09-19T01:25:14.305066Z"
    }
   },
   "outputs": [
    {
     "name": "stdout",
     "output_type": "stream",
     "text": [
      "=== 807 陈思彻 ====>匹配失败!!!! 0\n",
      "=== 809班 崔逸舟 ====>匹配失败!!!! 0\n",
      "=== 刘佳灵-807班 ====>匹配失败!!!! 0\n"
     ]
    }
   ],
   "source": [
    "_dic = {}\n",
    "for i in _dir2list:\n",
    "    GetAnswer(i)"
   ]
  },
  {
   "cell_type": "markdown",
   "metadata": {},
   "source": [
    "### merge all answer to a  table"
   ]
  },
  {
   "cell_type": "code",
   "execution_count": 37,
   "metadata": {
    "ExecuteTime": {
     "end_time": "2019-09-19T01:25:20.551282Z",
     "start_time": "2019-09-19T01:25:20.058282Z"
    }
   },
   "outputs": [],
   "source": [
    "import pandas as pd\n",
    "a = 'BDDBCACDDDDDCDDDDCDABDBBDBCCCBDBCBDAADBBDDCDCDCBCBBDDDDBDBACDBC'\n",
    "b = [i for i in a]\n",
    "S = pd.Series(index=[i for i in range(1,64)],data=b,name=\"start\")\n",
    "df = pd.DataFrame(S)\n",
    "df['id']=range(1,64)\n",
    "\n",
    "for i in _dic.keys():\n",
    "#     df[i]=[t[1] for t in _dic[i]]\n",
    "    ansdict = {}\n",
    "    ansdict = {\"id\":[int(j[0]) for j in _dic[i]],i:[j[1].upper() for j in _dic[i]]}\n",
    "\n",
    "    _df = pd.DataFrame(ansdict)\n",
    "    df = pd.merge(df,_df,on='id',how='left')"
   ]
  },
  {
   "cell_type": "markdown",
   "metadata": {
    "ExecuteTime": {
     "end_time": "2019-09-19T01:05:52.550590Z",
     "start_time": "2019-09-19T01:05:52.546590Z"
    }
   },
   "source": [
    "### 计算每个选项的准确性"
   ]
  },
  {
   "cell_type": "code",
   "execution_count": 38,
   "metadata": {
    "ExecuteTime": {
     "end_time": "2019-09-19T01:25:20.797313Z",
     "start_time": "2019-09-19T01:25:20.553273Z"
    }
   },
   "outputs": [],
   "source": [
    "for i in _dic.keys():\n",
    "    df[i+\"ans\"] = df[[\"start\",i]].apply(lambda x : 1 if x[\"start\"]==x[i] else 0,axis=1)\n",
    "df[\"accuracy\"]= df[[i+\"ans\" for i in _dic.keys()]].apply(lambda x:sum(x)/35,axis=1)\n",
    "_ansdic={}\n",
    "for i in _dic.keys():\n",
    "    _ansdic[i]=round(sum(df[i+\"ans\"])/63*100,1)\n",
    "ss=pd.Series(data=[_ansdic[i] for i in _ansdic.keys()],index=[i for i in _ansdic.keys()],name=\"得分\")"
   ]
  },
  {
   "cell_type": "markdown",
   "metadata": {
    "ExecuteTime": {
     "end_time": "2019-09-19T01:08:55.395652Z",
     "start_time": "2019-09-19T01:08:55.390645Z"
    }
   },
   "source": [
    "### 写入excel"
   ]
  },
  {
   "cell_type": "code",
   "execution_count": 39,
   "metadata": {
    "ExecuteTime": {
     "end_time": "2019-09-19T01:25:21.182285Z",
     "start_time": "2019-09-19T01:25:20.800273Z"
    }
   },
   "outputs": [],
   "source": [
    "df.rename(columns={\"start\":\"标准答案\"},inplace=True)\n",
    "# writer = pd.ExcelWriter('C:\\\\Users\\\\shengyuan\\\\Desktop\\\\python\\\\805.xlsx')\n",
    "# writer = pd.ExcelWriter('C:\\\\Users\\\\shengyuan\\\\Desktop\\\\python\\\\804.xlsx')\n",
    "writer = pd.ExcelWriter('C:\\\\Users\\\\shengyuan\\\\Desktop\\\\python\\\\other.xlsx')\n",
    "df.to_excel(writer,'学生情况',index=0)\n",
    "ss.to_excel(writer,'得分情况')\n",
    "writer.save()"
   ]
  }
 ],
 "metadata": {
  "kernelspec": {
   "display_name": "Python 3",
   "language": "python",
   "name": "python3"
  },
  "language_info": {
   "codemirror_mode": {
    "name": "ipython",
    "version": 3
   },
   "file_extension": ".py",
   "mimetype": "text/x-python",
   "name": "python",
   "nbconvert_exporter": "python",
   "pygments_lexer": "ipython3",
   "version": "3.7.0"
  },
  "toc": {
   "base_numbering": 1,
   "nav_menu": {},
   "number_sections": true,
   "sideBar": true,
   "skip_h1_title": false,
   "title_cell": "Table of Contents",
   "title_sidebar": "Contents",
   "toc_cell": false,
   "toc_position": {},
   "toc_section_display": true,
   "toc_window_display": false
  },
  "varInspector": {
   "cols": {
    "lenName": 16,
    "lenType": 16,
    "lenVar": 40
   },
   "kernels_config": {
    "python": {
     "delete_cmd_postfix": "",
     "delete_cmd_prefix": "del ",
     "library": "var_list.py",
     "varRefreshCmd": "print(var_dic_list())"
    },
    "r": {
     "delete_cmd_postfix": ") ",
     "delete_cmd_prefix": "rm(",
     "library": "var_list.r",
     "varRefreshCmd": "cat(var_dic_list()) "
    }
   },
   "types_to_exclude": [
    "module",
    "function",
    "builtin_function_or_method",
    "instance",
    "_Feature"
   ],
   "window_display": false
  }
 },
 "nbformat": 4,
 "nbformat_minor": 2
}
