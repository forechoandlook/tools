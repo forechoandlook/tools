{
 "cells": [
  {
   "cell_type": "code",
   "execution_count": 1,
   "metadata": {
    "ExecuteTime": {
     "end_time": "2019-11-26T15:36:32.239743Z",
     "start_time": "2019-11-26T15:36:32.209739Z"
    }
   },
   "outputs": [],
   "source": [
    "from PIL import  ImageGrab as ig\n",
    "from PIL import Image\n",
    "import time\n",
    "import win32con\n",
    "import win32clipboard as w"
   ]
  },
  {
   "cell_type": "code",
   "execution_count": 11,
   "metadata": {
    "ExecuteTime": {
     "end_time": "2019-11-26T15:40:34.581566Z",
     "start_time": "2019-11-26T15:40:34.573580Z"
    }
   },
   "outputs": [],
   "source": [
    "i = 0\n",
    "def job():\n",
    "    im = ig.grabclipboard()\n",
    "    if im != None:\n",
    "        setclipb()\n",
    "        global i\n",
    "        i = i+1\n",
    "        str1 = str(i)+\".png\"\n",
    "        im.save(str1)\n",
    "        \n",
    "\n",
    "def setclipb():\n",
    "    w.OpenClipboard()\n",
    "    w.SetClipboardData(win32con.CF_TEXT,'testing 123')\n",
    "    w.CloseClipboard()"
   ]
  },
  {
   "cell_type": "code",
   "execution_count": 3,
   "metadata": {
    "ExecuteTime": {
     "end_time": "2019-11-26T15:36:32.668835Z",
     "start_time": "2019-11-26T15:36:32.559314Z"
    }
   },
   "outputs": [],
   "source": [
    "# while True:\n",
    "#     job()\n",
    "    \n",
    "#     time.sleep(2)"
   ]
  },
  {
   "cell_type": "code",
   "execution_count": 17,
   "metadata": {
    "ExecuteTime": {
     "end_time": "2019-11-26T15:42:50.837026Z",
     "start_time": "2019-11-26T15:42:50.820020Z"
    }
   },
   "outputs": [],
   "source": [
    "job()"
   ]
  },
  {
   "cell_type": "code",
   "execution_count": null,
   "metadata": {},
   "outputs": [],
   "source": []
  },
  {
   "cell_type": "code",
   "execution_count": 18,
   "metadata": {
    "ExecuteTime": {
     "end_time": "2019-11-26T15:42:52.500506Z",
     "start_time": "2019-11-26T15:42:52.482504Z"
    }
   },
   "outputs": [
    {
     "data": {
      "image/png": "[encoded data removed]",
      "text/plain": [
       "<PIL.BmpImagePlugin.DibImageFile image mode=RGB size=295x284 at 0x2135E81E7F0>"
      ]
     },
     "execution_count": 18,
     "metadata": {},
     "output_type": "execute_result"
    }
   ],
   "source": [
    "ig.grabclipboard()"
   ]
  },
  {
   "cell_type": "code",
   "execution_count": 19,
   "metadata": {
    "ExecuteTime": {
     "end_time": "2019-11-26T15:43:48.932251Z",
     "start_time": "2019-11-26T15:43:48.927249Z"
    }
   },
   "outputs": [],
   "source": [
    "setclipb()"
   ]
  },
  {
   "cell_type": "code",
   "execution_count": null,
   "metadata": {},
   "outputs": [],
   "source": [
    "ttt"
   ]
  },
  {
   "cell_type": "code",
   "execution_count": null,
   "metadata": {},
   "outputs": [],
   "source": []
  }
 ],
 "metadata": {
  "kernelspec": {
   "display_name": "Python 3",
   "language": "python",
   "name": "python3"
  },
  "language_info": {
   "codemirror_mode": {
    "name": "ipython",
    "version": 3
   },
   "file_extension": ".py",
   "mimetype": "text/x-python",
   "name": "python",
   "nbconvert_exporter": "python",
   "pygments_lexer": "ipython3",
   "version": "3.7.0"
  },
  "toc": {
   "base_numbering": 1,
   "nav_menu": {},
   "number_sections": true,
   "sideBar": true,
   "skip_h1_title": false,
   "title_cell": "Table of Contents",
   "title_sidebar": "Contents",
   "toc_cell": false,
   "toc_position": {},
   "toc_section_display": true,
   "toc_window_display": false
  }
 },
 "nbformat": 4,
 "nbformat_minor": 2
}
